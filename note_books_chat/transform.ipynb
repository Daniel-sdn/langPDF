{
 "cells": [
  {
   "cell_type": "code",
   "execution_count": 1,
   "metadata": {},
   "outputs": [],
   "source": [
    "import os\n",
    "import chromadb\n",
    "from langchain.vectorstores import Chroma\n",
    "from langchain.embeddings import HuggingFaceEmbeddings\n",
    "from langchain.document_transformers import (\n",
    "    LongContextReorder,\n",
    ")\n",
    "from langchain.chains import StuffDocumentsChain, LLMChain\n",
    "from langchain.prompts import PromptTemplate\n",
    "from langchain.llms import OpenAI"
   ]
  },
  {
   "cell_type": "code",
   "execution_count": 2,
   "metadata": {},
   "outputs": [],
   "source": [
    "# Get embeddings.\n",
    "embeddings = HuggingFaceEmbeddings(model_name=\"all-MiniLM-L6-v2\")\n",
    "\n",
    "texts = [\n",
    "    \"Brasil propõe fundo ambiental de 12 bi de euros para fechar acordo com UE.\",\n",
    "    \"O Itamaraty inverte a lógica da desconfiança e pede a ajuda da Europa para cumprir as metas ambientais.\",\n",
    "    \"a melhoria das medidas higiénicas não diminui a prevalência das doenças retrovirais, e a frequência de hospitalizações se mantém alta apesar do uso de terapia de reidratação oral.\",\n",
    "    \"a principal intervenção sanitária que se pode aplicar é a vacina contra rotavírus\",\n",
    "    \"Hamas diz ter libertado duas refens americanas por razões humanitárias.\",\n",
    "    \"O Conselho Europeu (cujas reuniões são também conhecidas por Cimeiras Europeias) é uma instituição da União Europeia de carácter eminentemente político prevista nos artigos 235° e 236° do TFUE.\",\n",
    "    \"Antes da Revisão do Tratado de Lisboa, o papel do presidente (presidente em exercício) do Conselho Europeu era exercido pelo Chefe de Governo ou Chefe de Estado do Estado-Membro que exercia a Presidência do Conselho no respectivo semestre\",\n",
    "    \"A União Europeia (UE) é uma união económica e política de 27 Estados-membros independentes situados principalmente na Europa.\",\n",
    "    \"Rotavirus é um género de vírus de RNA bicatenário da família Reoviridae\",\n",
    "    \"O território da Alemanha abrange 357.021 quilômetros quadrados e é influenciado por um clima temperado sazonal.\",\n",
    "    \"O nacionalismo é uma ideia e um movimento que defende que a nação deve ser congruente com o Estado.\",\n",
    "    \"Os nacionalistas territoriais assumem que todos os habitantes de uma nação em particular devem lealdade ao seu país de nascimento ou adoção.\",\n",
    "    \"O rotavírus foi descoberto em 1973 e é responsável por 50% dos internamentos hospitalares devido a diarreias agudas em crianças. Para além do seu impacto na saúde humana, os rotavírus também causam infecções em animais, inclusive no gado.\", \n",
    "    \"Cecilia Payne-Gaposchkin (Wendover, Buckinghamshire, 10 de maio de 1900 — Cambridge (Massachusetts), 7 de dezembro de 1979) foi uma astrônoma e astrofísica britânico-americana.\",\n",
    "]\n",
    "\n",
    "# Create a retriever\n",
    "retriever = Chroma.from_texts(texts, embedding=embeddings).as_retriever(\n",
    "    search_kwargs={\"k\": 10}\n",
    ")\n",
    "query = \"O que se sabe sobre o rotavírus e a proteção contra este?\"\n",
    "\n",
    "# Get relevant documents ordered by relevance score\n",
    "docs = retriever.get_relevant_documents(query)\n",
    "docs"
   ]
  },
  {
   "cell_type": "code",
   "execution_count": 22,
   "metadata": {},
   "outputs": [
    {
     "data": {
      "text/plain": [
       "[Document(page_content='a principal intervenção sanitária que se pode aplicar é a vacina contra rotavírus'),\n",
       " Document(page_content='Antes da Revisão do Tratado de Lisboa, o papel do presidente (presidente em exercício) do Conselho Europeu era exercido pelo Chefe de Governo ou Chefe de Estado do Estado-Membro que exercia a Presidência do Conselho no respectivo semestre'),\n",
       " Document(page_content='Antes da Revisão do Tratado de Lisboa, o papel do presidente (presidente em exercício) do Conselho Europeu era exercido pelo Chefe de Governo ou Chefe de Estado do Estado-Membro que exercia a Presidência do Conselho no respectivo semestre'),\n",
       " Document(page_content='Brasil propõe fundo ambiental de 12 bi de euros para fechar acordo com UE.'),\n",
       " Document(page_content='O Itamaraty inverte a lógica da desconfiança e pede a ajuda da Europa para cumprir as metas ambientais.'),\n",
       " Document(page_content='O Itamaraty inverte a lógica da desconfiança e pede a ajuda da Europa para cumprir as metas ambientais.'),\n",
       " Document(page_content='Brasil propõe fundo ambiental de 12 bi de euros para fechar acordo com UE.'),\n",
       " Document(page_content='Antes da Revisão do Tratado de Lisboa, o papel do presidente (presidente em exercício) do Conselho Europeu era exercido pelo Chefe de Governo ou Chefe de Estado do Estado-Membro que exercia a Presidência do Conselho no respectivo semestre'),\n",
       " Document(page_content='Rotavirus é um género de vírus de RNA bicatenário da família Reoviridae'),\n",
       " Document(page_content='O rotavírus foi descoberto em 1973 e é responsável por 50% dos internamentos hospitalares devido a diarreias agudas em crianças. Para além do seu impacto na saúde humana, os rotavírus também causam infecções em animais, inclusive no gado.')]"
      ]
     },
     "execution_count": 22,
     "metadata": {},
     "output_type": "execute_result"
    }
   ],
   "source": [
    "# Reorder the documents:\n",
    "# Less relevant document will be at the middle of the list and more\n",
    "# relevant elements at beginning / end.\n",
    "reordering = LongContextReorder()\n",
    "reordered_docs = reordering.transform_documents(docs)\n",
    "\n",
    "# Confirm that the 4 relevant documents are at beginning and end.\n",
    "reordered_docs"
   ]
  },
  {
   "cell_type": "code",
   "execution_count": 23,
   "metadata": {},
   "outputs": [],
   "source": [
    "# Preparamos e executamos uma cadeia de coisas personalizada com documentos reordenados como contexto.\n",
    "\n",
    "# Substituir Prompts\n",
    "document_prompt = PromptTemplate(\n",
    "    input_variables=[\"page_content\"], template=\"{page_content}\"\n",
    ")\n",
    "document_variable_name = \"context\"\n",
    "llm = OpenAI()\n",
    "stuff_prompt_override = \"\"\"Dado este texto extraído:\n",
    "-----\n",
    "{context}\n",
    "-----\n",
    "Por favor responda a seguinte pergunta:\n",
    "{query}\"\"\"\n",
    "prompt = PromptTemplate(\n",
    "    template=stuff_prompt_override, input_variables=[\"context\", \"query\"]\n",
    ")"
   ]
  },
  {
   "cell_type": "code",
   "execution_count": 24,
   "metadata": {},
   "outputs": [
    {
     "data": {
      "text/plain": [
       "'\\n\\nO rotavírus foi descoberto em 1973 e é responsável por 50% dos internamentos hospitalares devido a diarreias agudas em crianças. A principal intervenção sanitária que se pode aplicar é a vacina contra rotavírus, que pode ser usada para reduzir a incidência e a gravidade da infecção. Além disso, também é responsável por infecções em animais, inclusive no gado.'"
      ]
     },
     "execution_count": 24,
     "metadata": {},
     "output_type": "execute_result"
    }
   ],
   "source": [
    "# Instantiate the chain\n",
    "llm_chain = LLMChain(llm=llm, prompt=prompt)\n",
    "chain = StuffDocumentsChain(\n",
    "    llm_chain=llm_chain,\n",
    "    document_prompt=document_prompt,\n",
    "    document_variable_name=document_variable_name,\n",
    ")\n",
    "chain.run(input_documents=reordered_docs, query=query)"
   ]
  }
 ],
 "metadata": {
  "kernelspec": {
   "display_name": ".venv",
   "language": "python",
   "name": "python3"
  },
  "language_info": {
   "codemirror_mode": {
    "name": "ipython",
    "version": 3
   },
   "file_extension": ".py",
   "mimetype": "text/x-python",
   "name": "python",
   "nbconvert_exporter": "python",
   "pygments_lexer": "ipython3",
   "version": "3.10.12"
  }
 },
 "nbformat": 4,
 "nbformat_minor": 2
}

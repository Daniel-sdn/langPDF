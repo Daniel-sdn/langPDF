{
 "cells": [
  {
   "attachments": {},
   "cell_type": "markdown",
   "metadata": {},
   "source": [
    "## Extracting"
   ]
  },
  {
   "attachments": {},
   "cell_type": "markdown",
   "metadata": {},
   "source": [
    "Modelos gerais de extraçao"
   ]
  },
  {
   "attachments": {},
   "cell_type": "markdown",
   "metadata": {},
   "source": [
    "### 1. Intervalos e temporais"
   ]
  },
  {
   "cell_type": "code",
   "execution_count": 2,
   "metadata": {},
   "outputs": [
    {
     "name": "stdout",
     "output_type": "stream",
     "text": [
      "[{\"body\":\"3 minutos\",\"start\":14,\"value\":{\"value\":3,\"type\":\"value\",\"minute\":3,\"unit\":\"minute\",\"normalized\":{\"value\":180,\"unit\":\"second\"}},\"end\":23,\"dim\":\"duration\",\"latent\":false},{\"body\":\"dez segundos\",\"start\":26,\"value\":{\"second\":10,\"value\":10,\"type\":\"value\",\"unit\":\"second\",\"normalized\":{\"value\":10,\"unit\":\"second\"}},\"end\":38,\"dim\":\"duration\",\"latent\":false}]"
     ]
    }
   ],
   "source": [
    "!curl -XPOST http://0.0.0.0:8000/parse --data 'locale=pt_BR&text=\"fiz isto por 3 minutos e dez segundos\"&dims=\"[\"duration\"]\"'"
   ]
  },
  {
   "cell_type": "code",
   "execution_count": 3,
   "metadata": {},
   "outputs": [
    {
     "name": "stdout",
     "output_type": "stream",
     "text": [
      "[{\"body\":\"proximas 2 horas\",\"start\":5,\"value\":{\"values\":[{\"to\":{\"value\":\"2023-10-21T12:00:00.000-07:00\",\"grain\":\"hour\"},\"from\":{\"value\":\"2023-10-21T10:00:00.000-07:00\",\"grain\":\"hour\"},\"type\":\"interval\"}],\"to\":{\"value\":\"2023-10-21T12:00:00.000-07:00\",\"grain\":\"hour\"},\"from\":{\"value\":\"2023-10-21T10:00:00.000-07:00\",\"grain\":\"hour\"},\"type\":\"interval\"},\"end\":21,\"dim\":\"time\",\"latent\":false}]"
     ]
    }
   ],
   "source": [
    "!curl -XPOST http://0.0.0.0:8000/parse --data 'locale=pt_BR&text=\"nas proximas 2 horas\"&dims=\"[\"duration\", \"time\"]\"'"
   ]
  },
  {
   "cell_type": "code",
   "execution_count": 4,
   "metadata": {},
   "outputs": [
    {
     "name": "stdout",
     "output_type": "stream",
     "text": [
      "[{\"body\":\"no primeiro\",\"start\":20,\"value\":{\"values\":[{\"value\":\"2023-11-01T00:00:00.000-07:00\",\"grain\":\"day\",\"type\":\"value\"},{\"value\":\"2023-12-01T00:00:00.000-08:00\",\"grain\":\"day\",\"type\":\"value\"},{\"value\":\"2024-01-01T00:00:00.000-08:00\",\"grain\":\"day\",\"type\":\"value\"}],\"value\":\"2023-11-01T00:00:00.000-07:00\",\"grain\":\"day\",\"type\":\"value\"},\"end\":31,\"dim\":\"time\",\"latent\":false},{\"body\":\"outubro\",\"start\":58,\"value\":{\"values\":[{\"value\":\"2023-10-01T00:00:00.000-07:00\",\"grain\":\"month\",\"type\":\"value\"},{\"value\":\"2024-10-01T00:00:00.000-07:00\",\"grain\":\"month\",\"type\":\"value\"},{\"value\":\"2025-10-01T00:00:00.000-07:00\",\"grain\":\"month\",\"type\":\"value\"}],\"value\":\"2023-10-01T00:00:00.000-07:00\",\"grain\":\"month\",\"type\":\"value\"},\"end\":65,\"dim\":\"time\",\"latent\":false}]"
     ]
    }
   ],
   "source": [
    "!curl -XPOST http://0.0.0.0:8000/parse --data 'locale=pt_BR&text=\"isto deve ser pago no primeiro dia útil de cada mês, até outubro\"'"
   ]
  },
  {
   "cell_type": "code",
   "execution_count": 5,
   "metadata": {},
   "outputs": [
    {
     "name": "stdout",
     "output_type": "stream",
     "text": [
      "[{\"body\":\"amanhã às 8\",\"start\":0,\"value\":{\"values\":[{\"value\":\"2023-10-22T08:00:00.000-07:00\",\"grain\":\"hour\",\"type\":\"value\"},{\"value\":\"2023-10-22T20:00:00.000-07:00\",\"grain\":\"hour\",\"type\":\"value\"}],\"value\":\"2023-10-22T08:00:00.000-07:00\",\"grain\":\"hour\",\"type\":\"value\"},\"end\":11,\"dim\":\"time\",\"latent\":false}]"
     ]
    }
   ],
   "source": [
    "!curl -XPOST http://0.0.0.0:8000/parse --data 'locale=pt_BR&text=amanhã às 8'"
   ]
  },
  {
   "cell_type": "code",
   "execution_count": null,
   "metadata": {},
   "outputs": [],
   "source": [
    "!curl -XPOST http://0.0.0.0:8000/parse --data 'locale=pt_BR&text=amanhã às 8 da manhã'"
   ]
  },
  {
   "cell_type": "code",
   "execution_count": null,
   "metadata": {},
   "outputs": [],
   "source": [
    "!curl -XPOST http://0.0.0.0:8000/parse --data 'locale=pt_BR&text=amanhã às 8 da noite'"
   ]
  },
  {
   "cell_type": "code",
   "execution_count": 6,
   "metadata": {},
   "outputs": [
    {
     "name": "stdout",
     "output_type": "stream",
     "text": [
      "[{\"body\":\"mês passado até hoje\",\"start\":8,\"value\":{\"values\":[{\"to\":{\"value\":\"2023-10-22T00:00:00.000-07:00\",\"grain\":\"day\"},\"from\":{\"value\":\"2023-09-01T00:00:00.000-07:00\",\"grain\":\"day\"},\"type\":\"interval\"}],\"to\":{\"value\":\"2023-10-22T00:00:00.000-07:00\",\"grain\":\"day\"},\"from\":{\"value\":\"2023-09-01T00:00:00.000-07:00\",\"grain\":\"day\"},\"type\":\"interval\"},\"end\":28,\"dim\":\"time\",\"latent\":false}]"
     ]
    }
   ],
   "source": [
    "!curl -XPOST http://0.0.0.0:8000/parse --data 'locale=pt_BR&text=desde o mês passado até hoje'"
   ]
  },
  {
   "cell_type": "code",
   "execution_count": 7,
   "metadata": {},
   "outputs": [
    {
     "name": "stdout",
     "output_type": "stream",
     "text": [
      "[{\"body\":\"próxima quarta-feira\",\"start\":7,\"value\":{\"values\":[{\"value\":\"2023-10-25T00:00:00.000-07:00\",\"grain\":\"day\",\"type\":\"value\"}],\"value\":\"2023-10-25T00:00:00.000-07:00\",\"grain\":\"day\",\"type\":\"value\"},\"end\":27,\"dim\":\"time\",\"latent\":false}]"
     ]
    }
   ],
   "source": [
    "!curl -XPOST http://0.0.0.0:8000/parse --data 'locale=pt_BR&text=para a próxima quarta-feira'"
   ]
  },
  {
   "cell_type": "code",
   "execution_count": 8,
   "metadata": {},
   "outputs": [
    {
     "name": "stdout",
     "output_type": "stream",
     "text": [
      "[{\"body\":\"neste ano\",\"start\":1,\"value\":{\"values\":[{\"value\":\"2023-01-01T00:00:00.000-08:00\",\"grain\":\"year\",\"type\":\"value\"}],\"value\":\"2023-01-01T00:00:00.000-08:00\",\"grain\":\"year\",\"type\":\"value\"},\"end\":10,\"dim\":\"time\",\"latent\":false},{\"body\":\"16 de janeiro até neste ano 14 de março\",\"start\":14,\"value\":{\"values\":[{\"value\":\"2023-03-14T00:00:00.000-07:00\",\"grain\":\"day\",\"type\":\"value\"},{\"value\":\"2022-03-14T00:00:00.000-07:00\",\"grain\":\"day\",\"type\":\"value\"},{\"value\":\"2023-03-14T00:00:00.000-07:00\",\"grain\":\"day\",\"type\":\"value\"}],\"value\":\"2023-03-14T00:00:00.000-07:00\",\"grain\":\"day\",\"type\":\"value\"},\"end\":53,\"dim\":\"time\",\"latent\":false}]"
     ]
    }
   ],
   "source": [
    "!curl -XPOST http://0.0.0.0:8000/parse --data 'locale=pt_BR&text=\"neste ano em 16 de janeiro até neste ano 14 de março\"'"
   ]
  },
  {
   "cell_type": "code",
   "execution_count": null,
   "metadata": {},
   "outputs": [],
   "source": [
    "!curl -XPOST http://0.0.0.0:8000/parse --data 'locale=pt_BR&text=\"iniciou em 16 de janeiro de 2023 até neste ano 25 de abril de 2023\"'"
   ]
  },
  {
   "cell_type": "code",
   "execution_count": null,
   "metadata": {},
   "outputs": [],
   "source": [
    "!curl -XPOST http://0.0.0.0:8000/parse --data 'locale=pt_BR&text=\"iniciou em 16 de janeiro de 2023 até neste ano 25 de abril de 2023\"'"
   ]
  },
  {
   "attachments": {},
   "cell_type": "markdown",
   "metadata": {},
   "source": [
    "### 2. Quantidade, dinheiro e cartao"
   ]
  },
  {
   "cell_type": "code",
   "execution_count": 9,
   "metadata": {},
   "outputs": [
    {
     "name": "stdout",
     "output_type": "stream",
     "text": [
      "[{\"body\":\"terça-feira\",\"start\":6,\"value\":{\"values\":[{\"value\":\"2023-10-24T00:00:00.000-07:00\",\"grain\":\"day\",\"type\":\"value\"},{\"value\":\"2023-10-31T00:00:00.000-07:00\",\"grain\":\"day\",\"type\":\"value\"},{\"value\":\"2023-11-07T00:00:00.000-08:00\",\"grain\":\"day\",\"type\":\"value\"}],\"value\":\"2023-10-24T00:00:00.000-07:00\",\"grain\":\"day\",\"type\":\"value\"},\"end\":17,\"dim\":\"time\",\"latent\":false}]"
     ]
    }
   ],
   "source": [
    "!curl -XPOST http://0.0.0.0:8000/parse --data 'locale=pt_BR&text=\"toda terça-feira ele gasta R$ 53,99 em cerveja.\"&dims=\"[\"date\", \"time\", \"quantidade\",\"ordinal\", \"AmountOfMoney\"]\"'"
   ]
  },
  {
   "cell_type": "code",
   "execution_count": null,
   "metadata": {},
   "outputs": [],
   "source": [
    "!curl -XPOST http://0.0.0.0:8000/parse --data 'locale=pt_BR&text=\"paguei R$1239,98 com meu cartão 5300-3320-6447-4755\"&dims=\"[\"email\", \"time\", \"date\", \"amount-of-money\", \"distance\", \"currency\", \"ordinal\", \"credit-card-number\", \"phone-number\"]\"'"
   ]
  },
  {
   "cell_type": "code",
   "execution_count": null,
   "metadata": {},
   "outputs": [],
   "source": [
    "!curl -XPOST http://0.0.0.0:8000/parse --data 'locale=pt_BR&text=\"paguei R$1239,98 com meu cartão 5300-3320-6447-4755\"&dims=\"[\"credit-card-number\"]\"'"
   ]
  },
  {
   "cell_type": "code",
   "execution_count": null,
   "metadata": {},
   "outputs": [],
   "source": [
    "!curl -XPOST http://0.0.0.0:8000/parse --data 'locale=pt_BR&text=\"isto deve ser pago no primeiro dia de cada mês até setembro\"&dims=\"[\"time\"]'"
   ]
  },
  {
   "cell_type": "code",
   "execution_count": null,
   "metadata": {},
   "outputs": [],
   "source": [
    "!curl -XPOST http://0.0.0.0:8000/parse --data 'locale=pt_BR&text=\"custou mil reais\"&dims=\"[\"currency\"]'"
   ]
  },
  {
   "cell_type": "code",
   "execution_count": null,
   "metadata": {},
   "outputs": [],
   "source": [
    "!curl -XPOST http://0.0.0.0:8000/parse --data 'locale=pt_BR&text=\"custou 1500 reais\"&dims=\"[\"currency\"]'"
   ]
  },
  {
   "cell_type": "code",
   "execution_count": null,
   "metadata": {},
   "outputs": [],
   "source": [
    "!curl -XPOST http://0.0.0.0:8000/parse --data 'locale=pt_BR&text=\"custou setecentos e sessenta e dois reais e quinze centavos\"&dims=\"[\"currency\"]'"
   ]
  },
  {
   "attachments": {},
   "cell_type": "markdown",
   "metadata": {},
   "source": [
    "### 3. Distancia, volume e temperatura"
   ]
  },
  {
   "cell_type": "code",
   "execution_count": 10,
   "metadata": {},
   "outputs": [
    {
     "name": "stdout",
     "output_type": "stream",
     "text": [
      "[{\"body\":\"1000 metros\",\"start\":10,\"value\":{\"value\":1000,\"type\":\"value\",\"unit\":\"metre\"},\"end\":21,\"dim\":\"distance\",\"latent\":false}]"
     ]
    }
   ],
   "source": [
    "!curl -XPOST http://0.0.0.0:8000/parse --data 'locale=pt_BR&text=\"cerca de 1000 metros\"&dims=\"[\"distance\"]'"
   ]
  },
  {
   "cell_type": "code",
   "execution_count": null,
   "metadata": {},
   "outputs": [],
   "source": [
    "!curl -XPOST http://0.0.0.0:8000/parse --data 'locale=pt_BR&text=\"andei dez km\"&dims=\"[\"distance\"]'"
   ]
  },
  {
   "cell_type": "code",
   "execution_count": null,
   "metadata": {},
   "outputs": [],
   "source": [
    "!curl -XPOST http://0.0.0.0:8000/parse --data 'locale=pt_BR&text=\"12 cm\"&dims=\"[\"distance\"]'"
   ]
  },
  {
   "cell_type": "code",
   "execution_count": null,
   "metadata": {},
   "outputs": [],
   "source": [
    "!curl -XPOST http://0.0.0.0:8000/parse --data 'locale=pt_BR&text=\"bebi 3 litros de cerveja\"&dims=\"[\"volume\"]'"
   ]
  },
  {
   "cell_type": "code",
   "execution_count": null,
   "metadata": {},
   "outputs": [],
   "source": [
    "!curl -XPOST http://0.0.0.0:8000/parse --data 'locale=pt_BR&text=\"um frio de 14 graus\"&dims=\"[\"temperature\"]'"
   ]
  },
  {
   "cell_type": "code",
   "execution_count": null,
   "metadata": {},
   "outputs": [],
   "source": [
    "!curl -XPOST http://0.0.0.0:8000/parse --data 'locale=pt_BR&text=\"fez 5 graus abaixo de zero\"&dims=\"[\"temperature\"]'"
   ]
  },
  {
   "attachments": {},
   "cell_type": "markdown",
   "metadata": {},
   "source": [
    "### 4. url e email"
   ]
  },
  {
   "cell_type": "code",
   "execution_count": 11,
   "metadata": {},
   "outputs": [
    {
     "name": "stdout",
     "output_type": "stream",
     "text": [
      "[{\"body\":\"https://www.modernizacao.com.br\",\"start\":11,\"value\":{\"domain\":\"modernizacao.com.br\",\"value\":\"https://www.modernizacao.com.br\",\"type\":\"value\"},\"end\":42,\"dim\":\"url\",\"latent\":false}]"
     ]
    }
   ],
   "source": [
    "!curl -XPOST http://0.0.0.0:8000/parse --data 'locale=pt_BR&text=\"meu site: https://www.modernizacao.com.br\"&dims=\"[\"url\"]'"
   ]
  },
  {
   "cell_type": "code",
   "execution_count": null,
   "metadata": {},
   "outputs": [],
   "source": [
    "!curl -XPOST http://0.0.0.0:8000/parse --data 'locale=pt_BR&text=\"meu site: https://transparencia.mesquita.rj.gov.br\"&dims=\"[\"url\"]'"
   ]
  },
  {
   "cell_type": "code",
   "execution_count": null,
   "metadata": {},
   "outputs": [],
   "source": [
    "!curl -XPOST http://0.0.0.0:8000/parse --data 'locale=pt_BR&text=\"meu site: https://transparencia.mesquita.rj.gov.br\"&dims=\"[\"url\"]'"
   ]
  },
  {
   "cell_type": "code",
   "execution_count": null,
   "metadata": {},
   "outputs": [],
   "source": [
    "!curl -XPOST http://0.0.0.0:8000/parse --data 'locale=pt_BR&text=\"dados: danielsdn0725@gmail.com, tel 011 99495-4119 - São Paulo\"'"
   ]
  },
  {
   "attachments": {},
   "cell_type": "markdown",
   "metadata": {},
   "source": [
    "Duckling - email, phone-number"
   ]
  },
  {
   "cell_type": "code",
   "execution_count": null,
   "metadata": {},
   "outputs": [],
   "source": [
    "!curl -XPOST http://0.0.0.0:8000/parse --data 'locale=pt_BR&text=\"dados: danielsdn0725@gmail.com, tel 011 99495-4119 - São Paulo\"'"
   ]
  },
  {
   "cell_type": "code",
   "execution_count": null,
   "metadata": {},
   "outputs": [],
   "source": [
    "!curl -XPOST http://0.0.0.0:8000/parse --data 'locale=pt_BR&text=pelo valor de R$ 42,00 eu viajei'"
   ]
  },
  {
   "cell_type": "code",
   "execution_count": 12,
   "metadata": {},
   "outputs": [
    {
     "name": "stdout",
     "output_type": "stream",
     "text": [
      "[{\"body\":\"mês passado até hoje\",\"start\":8,\"value\":{\"values\":[{\"to\":{\"value\":\"2023-10-22T00:00:00.000-07:00\",\"grain\":\"day\"},\"from\":{\"value\":\"2023-09-01T00:00:00.000-07:00\",\"grain\":\"day\"},\"type\":\"interval\"}],\"to\":{\"value\":\"2023-10-22T00:00:00.000-07:00\",\"grain\":\"day\"},\"from\":{\"value\":\"2023-09-01T00:00:00.000-07:00\",\"grain\":\"day\"},\"type\":\"interval\"},\"end\":28,\"dim\":\"time\",\"latent\":false}]"
     ]
    }
   ],
   "source": [
    "!curl -XPOST http://0.0.0.0:8000/parse --data 'locale=pt_BR&text=desde o mês passado até hoje'"
   ]
  },
  {
   "cell_type": "code",
   "execution_count": null,
   "metadata": {},
   "outputs": [],
   "source": [
    "!curl -XPOST http://0.0.0.0:8000/parse --data 'locale=pt_BR&text=\"paguei R$1239,98 com meu cartão 5300-3320-6447-4755\"&dims=\"[\"credit-card-number\", \"amount-of-money\"]\"'"
   ]
  },
  {
   "cell_type": "code",
   "execution_count": null,
   "metadata": {},
   "outputs": [],
   "source": [
    "!curl -XPOST http://0.0.0.0:8000/parse --data 'locale=pt_BR&text=\"Tomei 3 taças de vinho, a segunda foi fantástica\"&dims=\"[\"number\",\"ordinal\"]\"'"
   ]
  },
  {
   "cell_type": "code",
   "execution_count": null,
   "metadata": {},
   "outputs": [],
   "source": [
    "!curl -XPOST http://0.0.0.0:8000/parse --data 'locale=pt_BR&text=\"dados: daniel.nascimento@fast-i.com, tel 011 99495-4119 - São Paulo\"'"
   ]
  },
  {
   "attachments": {},
   "cell_type": "markdown",
   "metadata": {},
   "source": [
    "### 5. Ordinal"
   ]
  },
  {
   "cell_type": "code",
   "execution_count": null,
   "metadata": {},
   "outputs": [],
   "source": [
    "!curl -XPOST http://0.0.0.0:8000/parse --data 'locale=pt_BR&text=\"foi o primeiro colocado em sua turma pelo quarto ano consecutivo\"&dims=\"[\"number\",\"ordinal\", \"rank\"]\"'"
   ]
  }
 ],
 "metadata": {
  "kernelspec": {
   "display_name": "query-db",
   "language": "python",
   "name": "python3"
  },
  "language_info": {
   "codemirror_mode": {
    "name": "ipython",
    "version": 3
   },
   "file_extension": ".py",
   "mimetype": "text/x-python",
   "name": "python",
   "nbconvert_exporter": "python",
   "pygments_lexer": "ipython3",
   "version": "3.10.12"
  },
  "orig_nbformat": 4
 },
 "nbformat": 4,
 "nbformat_minor": 2
}
